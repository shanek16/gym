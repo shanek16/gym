{
 "cells": [
  {
   "cell_type": "code",
   "execution_count": null,
   "metadata": {},
   "outputs": [],
   "source": [
    "import numpy as np"
   ]
  },
  {
   "cell_type": "code",
   "execution_count": null,
   "metadata": {},
   "outputs": [],
   "source": [
    "filename = f'traj/target_trajectory_m:1_seed:0.npy'\n",
    "try:\n",
    "    trajectory_array = np.load(filename)\n",
    "except Exception as e: print(e)\n",
    "filename = f'traj/target_trajectory_m:1_seed:0.npy'\n",
    "np.save(filename, trajectory_array)\n"
   ]
  }
 ],
 "metadata": {
  "language_info": {
   "name": "python"
  }
 },
 "nbformat": 4,
 "nbformat_minor": 2
}
